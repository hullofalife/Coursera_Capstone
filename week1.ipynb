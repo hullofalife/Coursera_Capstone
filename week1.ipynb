{
    "cells": [
        {
            "cell_type": "code",
            "execution_count": null,
            "metadata": {
                "collapsed": true
            },
            "outputs": [],
            "source": "import numpy as np \nimport pandas as pd\n#from sklearn.cluster import DBSCAN \n#from sklearn.datasets.samples_generator import make_blobs \n#from sklearn.preprocessing import StandardScaler \n#import matplotlib.pyplot as plt \n#%matplotlib inline"
        },
        {
            "cell_type": "code",
            "execution_count": 2,
            "metadata": {},
            "outputs": [
                {
                    "name": "stdout",
                    "output_type": "stream",
                    "text": "Hello Capstone Project Course!\nThis notebook will be used for the capstone project\n"
                }
            ],
            "source": "print('Hello Capstone Project Course!')\nprint('This notebook will be used for the capstone project')"
        }
    ],
    "metadata": {
        "kernelspec": {
            "display_name": "Python 3.7",
            "language": "python",
            "name": "python3"
        },
        "language_info": {
            "codemirror_mode": {
                "name": "ipython",
                "version": 3
            },
            "file_extension": ".py",
            "mimetype": "text/x-python",
            "name": "python",
            "nbconvert_exporter": "python",
            "pygments_lexer": "ipython3",
            "version": "3.7.9"
        }
    },
    "nbformat": 4,
    "nbformat_minor": 1
}